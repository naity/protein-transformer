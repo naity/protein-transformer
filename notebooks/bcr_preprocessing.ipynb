{
 "cells": [
  {
   "cell_type": "code",
   "execution_count": 20,
   "metadata": {},
   "outputs": [],
   "source": [
    "import pandas as pd"
   ]
  },
  {
   "cell_type": "code",
   "execution_count": 21,
   "metadata": {},
   "outputs": [
    {
     "name": "stdout",
     "output_type": "stream",
     "text": [
      "(8604, 70)\n"
     ]
    },
    {
     "name": "stderr",
     "output_type": "stream",
     "text": [
      "/tmp/ipykernel_277887/3172264868.py:2: DtypeWarning: Columns (14,18,43) have mixed types. Specify dtype option on import or set low_memory=False.\n",
      "  df = pd.read_csv(\"../data/bcr_full_v3.csv\", header=1)\n"
     ]
    },
    {
     "data": {
      "text/html": [
       "<div>\n",
       "<style scoped>\n",
       "    .dataframe tbody tr th:only-of-type {\n",
       "        vertical-align: middle;\n",
       "    }\n",
       "\n",
       "    .dataframe tbody tr th {\n",
       "        vertical-align: top;\n",
       "    }\n",
       "\n",
       "    .dataframe thead th {\n",
       "        text-align: right;\n",
       "    }\n",
       "</style>\n",
       "<table border=\"1\" class=\"dataframe\">\n",
       "  <thead>\n",
       "    <tr style=\"text-align: right;\">\n",
       "      <th></th>\n",
       "      <th>Group IRI</th>\n",
       "      <th>IEDB Receptor ID</th>\n",
       "      <th>Reference Name</th>\n",
       "      <th>Type</th>\n",
       "      <th>IEDB IRI</th>\n",
       "      <th>IEDB IRI.1</th>\n",
       "      <th>Name</th>\n",
       "      <th>Source Molecule</th>\n",
       "      <th>Source Organism</th>\n",
       "      <th>Type.1</th>\n",
       "      <th>...</th>\n",
       "      <th>CDR1 Start Curated.1</th>\n",
       "      <th>CDR1 End Curated.1</th>\n",
       "      <th>CDR1 Start Calculated.1</th>\n",
       "      <th>CDR1 End Calculated.1</th>\n",
       "      <th>CDR2 Curated.1</th>\n",
       "      <th>CDR2 Calculated.1</th>\n",
       "      <th>CDR2 Start Curated.1</th>\n",
       "      <th>CDR2 End Curated.1</th>\n",
       "      <th>CDR2 Start Calculated.1</th>\n",
       "      <th>CDR2 End Calculated.1</th>\n",
       "    </tr>\n",
       "  </thead>\n",
       "  <tbody>\n",
       "    <tr>\n",
       "      <th>0</th>\n",
       "      <td>http://www.iedb.org/receptor/1</td>\n",
       "      <td>1</td>\n",
       "      <td>26-2F</td>\n",
       "      <td>heavylight</td>\n",
       "      <td>http://www.iedb.org/reference/279</td>\n",
       "      <td>http://www.iedb.org/epitope/2134780</td>\n",
       "      <td>G58, L59, S61, P62, C63, K64, D65, G109, G110,...</td>\n",
       "      <td>Angiogenin</td>\n",
       "      <td>Homo sapiens (human)</td>\n",
       "      <td>B cell</td>\n",
       "      <td>...</td>\n",
       "      <td>NaN</td>\n",
       "      <td>NaN</td>\n",
       "      <td>27.0</td>\n",
       "      <td>36.0</td>\n",
       "      <td>NaN</td>\n",
       "      <td>AAS</td>\n",
       "      <td>NaN</td>\n",
       "      <td>NaN</td>\n",
       "      <td>54.0</td>\n",
       "      <td>56.0</td>\n",
       "    </tr>\n",
       "    <tr>\n",
       "      <th>1</th>\n",
       "      <td>http://www.iedb.org/receptor/2</td>\n",
       "      <td>2</td>\n",
       "      <td>LA-2</td>\n",
       "      <td>heavylight</td>\n",
       "      <td>http://www.iedb.org/reference/280</td>\n",
       "      <td>http://www.iedb.org/epitope/190616</td>\n",
       "      <td>S206, S207, A208, A209, T210, K211, K212, T213...</td>\n",
       "      <td>Outer surface protein A</td>\n",
       "      <td>Borreliella burgdorferi (Lyme disease spirochete)</td>\n",
       "      <td>B cell</td>\n",
       "      <td>...</td>\n",
       "      <td>NaN</td>\n",
       "      <td>NaN</td>\n",
       "      <td>27.0</td>\n",
       "      <td>32.0</td>\n",
       "      <td>NaN</td>\n",
       "      <td>YTS</td>\n",
       "      <td>NaN</td>\n",
       "      <td>NaN</td>\n",
       "      <td>50.0</td>\n",
       "      <td>52.0</td>\n",
       "    </tr>\n",
       "    <tr>\n",
       "      <th>2</th>\n",
       "      <td>http://www.iedb.org/receptor/3</td>\n",
       "      <td>3</td>\n",
       "      <td>OKT3</td>\n",
       "      <td>heavylight</td>\n",
       "      <td>http://www.iedb.org/reference/310</td>\n",
       "      <td>http://www.iedb.org/epitope/2134650</td>\n",
       "      <td>E56, G68, E70, R101, G102, S103, K104, P105, D107</td>\n",
       "      <td>T-cell surface glycoprotein CD3 epsilon chain</td>\n",
       "      <td>Homo sapiens (human)</td>\n",
       "      <td>B cell</td>\n",
       "      <td>...</td>\n",
       "      <td>NaN</td>\n",
       "      <td>NaN</td>\n",
       "      <td>27.0</td>\n",
       "      <td>31.0</td>\n",
       "      <td>NaN</td>\n",
       "      <td>DTS</td>\n",
       "      <td>NaN</td>\n",
       "      <td>NaN</td>\n",
       "      <td>49.0</td>\n",
       "      <td>51.0</td>\n",
       "    </tr>\n",
       "    <tr>\n",
       "      <th>3</th>\n",
       "      <td>http://www.iedb.org/receptor/4</td>\n",
       "      <td>4</td>\n",
       "      <td>Fab-12 variant Y0317</td>\n",
       "      <td>heavylight</td>\n",
       "      <td>http://www.iedb.org/reference/312</td>\n",
       "      <td>http://www.iedb.org/epitope/2135423</td>\n",
       "      <td>V: F43; W: Y71, K74, Q105, I106, M107, R108, I...</td>\n",
       "      <td>VEGF homodimer</td>\n",
       "      <td>Homo sapiens (human)</td>\n",
       "      <td>B cell</td>\n",
       "      <td>...</td>\n",
       "      <td>NaN</td>\n",
       "      <td>NaN</td>\n",
       "      <td>27.0</td>\n",
       "      <td>32.0</td>\n",
       "      <td>NaN</td>\n",
       "      <td>FTS</td>\n",
       "      <td>NaN</td>\n",
       "      <td>NaN</td>\n",
       "      <td>50.0</td>\n",
       "      <td>52.0</td>\n",
       "    </tr>\n",
       "    <tr>\n",
       "      <th>4</th>\n",
       "      <td>http://www.iedb.org/receptor/4</td>\n",
       "      <td>4</td>\n",
       "      <td>Fab-12 variant Y0317</td>\n",
       "      <td>heavylight</td>\n",
       "      <td>http://www.iedb.org/reference/312</td>\n",
       "      <td>http://www.iedb.org/epitope/2135423</td>\n",
       "      <td>V: F43; W: Y71, K74, Q105, I106, M107, R108, I...</td>\n",
       "      <td>VEGF homodimer</td>\n",
       "      <td>Homo sapiens (human)</td>\n",
       "      <td>B cell</td>\n",
       "      <td>...</td>\n",
       "      <td>NaN</td>\n",
       "      <td>NaN</td>\n",
       "      <td>27.0</td>\n",
       "      <td>32.0</td>\n",
       "      <td>NaN</td>\n",
       "      <td>FTS</td>\n",
       "      <td>NaN</td>\n",
       "      <td>NaN</td>\n",
       "      <td>50.0</td>\n",
       "      <td>52.0</td>\n",
       "    </tr>\n",
       "  </tbody>\n",
       "</table>\n",
       "<p>5 rows × 70 columns</p>\n",
       "</div>"
      ],
      "text/plain": [
       "                        Group IRI  IEDB Receptor ID        Reference Name  \\\n",
       "0  http://www.iedb.org/receptor/1                 1                 26-2F   \n",
       "1  http://www.iedb.org/receptor/2                 2                  LA-2   \n",
       "2  http://www.iedb.org/receptor/3                 3                  OKT3   \n",
       "3  http://www.iedb.org/receptor/4                 4  Fab-12 variant Y0317   \n",
       "4  http://www.iedb.org/receptor/4                 4  Fab-12 variant Y0317   \n",
       "\n",
       "         Type                           IEDB IRI  \\\n",
       "0  heavylight  http://www.iedb.org/reference/279   \n",
       "1  heavylight  http://www.iedb.org/reference/280   \n",
       "2  heavylight  http://www.iedb.org/reference/310   \n",
       "3  heavylight  http://www.iedb.org/reference/312   \n",
       "4  heavylight  http://www.iedb.org/reference/312   \n",
       "\n",
       "                            IEDB IRI.1  \\\n",
       "0  http://www.iedb.org/epitope/2134780   \n",
       "1   http://www.iedb.org/epitope/190616   \n",
       "2  http://www.iedb.org/epitope/2134650   \n",
       "3  http://www.iedb.org/epitope/2135423   \n",
       "4  http://www.iedb.org/epitope/2135423   \n",
       "\n",
       "                                                Name  \\\n",
       "0  G58, L59, S61, P62, C63, K64, D65, G109, G110,...   \n",
       "1  S206, S207, A208, A209, T210, K211, K212, T213...   \n",
       "2  E56, G68, E70, R101, G102, S103, K104, P105, D107   \n",
       "3  V: F43; W: Y71, K74, Q105, I106, M107, R108, I...   \n",
       "4  V: F43; W: Y71, K74, Q105, I106, M107, R108, I...   \n",
       "\n",
       "                                 Source Molecule  \\\n",
       "0                                     Angiogenin   \n",
       "1                        Outer surface protein A   \n",
       "2  T-cell surface glycoprotein CD3 epsilon chain   \n",
       "3                                 VEGF homodimer   \n",
       "4                                 VEGF homodimer   \n",
       "\n",
       "                                     Source Organism  Type.1  ...  \\\n",
       "0                               Homo sapiens (human)  B cell  ...   \n",
       "1  Borreliella burgdorferi (Lyme disease spirochete)  B cell  ...   \n",
       "2                               Homo sapiens (human)  B cell  ...   \n",
       "3                               Homo sapiens (human)  B cell  ...   \n",
       "4                               Homo sapiens (human)  B cell  ...   \n",
       "\n",
       "  CDR1 Start Curated.1  CDR1 End Curated.1 CDR1 Start Calculated.1  \\\n",
       "0                  NaN                 NaN                    27.0   \n",
       "1                  NaN                 NaN                    27.0   \n",
       "2                  NaN                 NaN                    27.0   \n",
       "3                  NaN                 NaN                    27.0   \n",
       "4                  NaN                 NaN                    27.0   \n",
       "\n",
       "  CDR1 End Calculated.1 CDR2 Curated.1 CDR2 Calculated.1 CDR2 Start Curated.1  \\\n",
       "0                  36.0            NaN               AAS                  NaN   \n",
       "1                  32.0            NaN               YTS                  NaN   \n",
       "2                  31.0            NaN               DTS                  NaN   \n",
       "3                  32.0            NaN               FTS                  NaN   \n",
       "4                  32.0            NaN               FTS                  NaN   \n",
       "\n",
       "  CDR2 End Curated.1 CDR2 Start Calculated.1 CDR2 End Calculated.1  \n",
       "0                NaN                    54.0                  56.0  \n",
       "1                NaN                    50.0                  52.0  \n",
       "2                NaN                    49.0                  51.0  \n",
       "3                NaN                    50.0                  52.0  \n",
       "4                NaN                    50.0                  52.0  \n",
       "\n",
       "[5 rows x 70 columns]"
      ]
     },
     "execution_count": 21,
     "metadata": {},
     "output_type": "execute_result"
    }
   ],
   "source": [
    "# data source: https://www.iedb.org/downloader.php?file_name=doc/bcr_full_v3.zip\n",
    "df = pd.read_csv(\"../data/bcr_full_v3.csv\", header=1)\n",
    "print(df.shape)\n",
    "df.head()"
   ]
  },
  {
   "cell_type": "code",
   "execution_count": 22,
   "metadata": {},
   "outputs": [
    {
     "data": {
      "text/plain": [
       "(5005, 70)"
      ]
     },
     "execution_count": 22,
     "metadata": {},
     "output_type": "execute_result"
    }
   ],
   "source": [
    "# human BCRs\n",
    "bcr = df.loc[df[\"Organism IRI\"] == \"http://purl.obolibrary.org/obo/NCBITaxon_9606\"]\n",
    "bcr.shape"
   ]
  },
  {
   "cell_type": "code",
   "execution_count": 23,
   "metadata": {},
   "outputs": [],
   "source": [
    "# clean up\n",
    "bcr = bcr.dropna(subset=\"Source Organism\")"
   ]
  },
  {
   "cell_type": "code",
   "execution_count": 24,
   "metadata": {},
   "outputs": [
    {
     "data": {
      "text/plain": [
       "Source Organism\n",
       "Homo sapiens (human)                                                                                        892\n",
       "Sus scrofa (pig)                                                                                            780\n",
       "SARS-CoV2                                                                                                   552\n",
       "Human immunodeficiency virus 1 (human immunodeficiency virus 1 HIV-1)                                       395\n",
       "Plasmodium falciparum (malaria parasite P. falciparum)                                                      272\n",
       "Zaire ebolavirus Makona (Ebola virus Makona)                                                                 92\n",
       "Arachis hypogaea (peanut)                                                                                    86\n",
       "Ebola virus - Mayinga, Zaire, 1976 (Ebola virus (strain Zaire Mayinga))                                      76\n",
       "SARS-CoV2 Omicron                                                                                            72\n",
       "Human respiratory syncytial virus A2 (Human respiratory syncytial virus (strain A2))                         64\n",
       "Severe acute respiratory syndrome coronavirus 2 Wuhan/Hu-1/2019                                              42\n",
       "Plasmodium falciparum 3D7                                                                                    39\n",
       "SARS-CoV2 Beta                                                                                               39\n",
       "HIV-1 M:B_HXB2R (Human immunodeficiency virus type 1 (HXB2 ISOLATE))                                         38\n",
       "Plasmodium falciparum NF54                                                                                   32\n",
       "Influenza A virus (A/Solomon Islands/3/2006(H1N1)) (Influenza A virus (A/Solomon Islands/03/2006(H1N1)))     29\n",
       "SARS coronavirus Urbani (SARS coronavirus strain Urbani)                                                     28\n",
       "Zaire ebolavirus (Zaire Ebola virus)                                                                         28\n",
       "Human betacoronavirus 2c EMC/2012 (human betacoronavirus 2c EMC)                                             26\n",
       "Zika virus                                                                                                   23\n",
       "Name: count, dtype: int64"
      ]
     },
     "execution_count": 24,
     "metadata": {},
     "output_type": "execute_result"
    }
   ],
   "source": [
    "bcr[\"Source Organism\"].value_counts()[:20]"
   ]
  },
  {
   "cell_type": "code",
   "execution_count": 25,
   "metadata": {},
   "outputs": [
    {
     "name": "stderr",
     "output_type": "stream",
     "text": [
      "/tmp/ipykernel_277887/3390259735.py:4: SettingWithCopyWarning: \n",
      "A value is trying to be set on a copy of a slice from a DataFrame.\n",
      "Try using .loc[row_indexer,col_indexer] = value instead\n",
      "\n",
      "See the caveats in the documentation: https://pandas.pydata.org/pandas-docs/stable/user_guide/indexing.html#returning-a-view-versus-a-copy\n",
      "  covid[\"target\"] = \"SARS-CoV2\"\n"
     ]
    },
    {
     "data": {
      "text/plain": [
       "(552, 71)"
      ]
     },
     "execution_count": 25,
     "metadata": {},
     "output_type": "execute_result"
    }
   ],
   "source": [
    "# COVID BCRs\n",
    "# covid = bcr.loc[bcr[\"Source Organism\"].str.startswith(\"SARS-CoV2\")]\n",
    "covid = bcr.loc[bcr[\"Source Organism\"] == \"SARS-CoV2\"]\n",
    "covid[\"target\"] = \"SARS-CoV2\"\n",
    "covid.shape"
   ]
  },
  {
   "cell_type": "code",
   "execution_count": 26,
   "metadata": {},
   "outputs": [
    {
     "name": "stderr",
     "output_type": "stream",
     "text": [
      "/tmp/ipykernel_277887/2000009084.py:3: SettingWithCopyWarning: \n",
      "A value is trying to be set on a copy of a slice from a DataFrame.\n",
      "Try using .loc[row_indexer,col_indexer] = value instead\n",
      "\n",
      "See the caveats in the documentation: https://pandas.pydata.org/pandas-docs/stable/user_guide/indexing.html#returning-a-view-versus-a-copy\n",
      "  hiv1[\"target\"] = \"HIV-1\"\n"
     ]
    },
    {
     "data": {
      "text/plain": [
       "(484, 71)"
      ]
     },
     "execution_count": 26,
     "metadata": {},
     "output_type": "execute_result"
    }
   ],
   "source": [
    "# HIV-1 BCRs\n",
    "hiv1 = bcr.loc[bcr[\"Source Organism\"].str.contains(\"HIV-1\")]\n",
    "hiv1[\"target\"] = \"HIV-1\"\n",
    "hiv1.shape"
   ]
  },
  {
   "cell_type": "code",
   "execution_count": 27,
   "metadata": {},
   "outputs": [
    {
     "data": {
      "text/plain": [
       "(1036, 71)"
      ]
     },
     "execution_count": 27,
     "metadata": {},
     "output_type": "execute_result"
    }
   ],
   "source": [
    "# concat both\n",
    "data = pd.concat([covid, hiv1])\n",
    "data.shape"
   ]
  },
  {
   "cell_type": "code",
   "execution_count": 28,
   "metadata": {},
   "outputs": [
    {
     "data": {
      "text/plain": [
       "(541, 72)"
      ]
     },
     "execution_count": 28,
     "metadata": {},
     "output_type": "execute_result"
    }
   ],
   "source": [
    "# use heavy chain sequence only and remove duplicated sequences\n",
    "data[\"sequence\"] = data[\"Protein Sequence\"]\n",
    "data = data.dropna(subset=\"sequence\").drop_duplicates(\"sequence\")\n",
    "data.shape"
   ]
  },
  {
   "cell_type": "code",
   "execution_count": 29,
   "metadata": {},
   "outputs": [
    {
     "data": {
      "text/plain": [
       "Source Organism\n",
       "SARS-CoV2                                                                313\n",
       "Human immunodeficiency virus 1 (human immunodeficiency virus 1 HIV-1)    186\n",
       "HIV-1 M:B_HXB2R (Human immunodeficiency virus type 1 (HXB2 ISOLATE))      15\n",
       "HIV-1 M:B_MN (Human immunodeficiency virus type 1 (MN ISOLATE))           10\n",
       "HIV-1 M:A                                                                  6\n",
       "HIV-1 M:C                                                                  5\n",
       "HIV-1 M:B                                                                  3\n",
       "HIV-1 M:G                                                                  2\n",
       "HIV-1 CRF01_AE (Human immunodeficiency virus type 1 CRF01_AE)              1\n",
       "Name: count, dtype: int64"
      ]
     },
     "execution_count": 29,
     "metadata": {},
     "output_type": "execute_result"
    }
   ],
   "source": [
    "data[\"Source Organism\"].value_counts()"
   ]
  },
  {
   "cell_type": "code",
   "execution_count": 30,
   "metadata": {},
   "outputs": [
    {
     "data": {
      "text/html": [
       "<div>\n",
       "<style scoped>\n",
       "    .dataframe tbody tr th:only-of-type {\n",
       "        vertical-align: middle;\n",
       "    }\n",
       "\n",
       "    .dataframe tbody tr th {\n",
       "        vertical-align: top;\n",
       "    }\n",
       "\n",
       "    .dataframe thead th {\n",
       "        text-align: right;\n",
       "    }\n",
       "</style>\n",
       "<table border=\"1\" class=\"dataframe\">\n",
       "  <thead>\n",
       "    <tr style=\"text-align: right;\">\n",
       "      <th></th>\n",
       "      <th>sequence</th>\n",
       "      <th>target</th>\n",
       "    </tr>\n",
       "  </thead>\n",
       "  <tbody>\n",
       "    <tr>\n",
       "      <th>3513</th>\n",
       "      <td>QMQLVQSGTEVKKPGESLKISCKGSGYGFITYWIGWVRQMPGKGLE...</td>\n",
       "      <td>SARS-CoV2</td>\n",
       "    </tr>\n",
       "    <tr>\n",
       "      <th>3908</th>\n",
       "      <td>EVQLVESGGGLIQPGGSLRLSCAASGFTVSSNYMSWVRQAPGKGLE...</td>\n",
       "      <td>SARS-CoV2</td>\n",
       "    </tr>\n",
       "    <tr>\n",
       "      <th>3909</th>\n",
       "      <td>EVQLVESGGGLIQPGGSLRLSCAASGFTVSSNYMSWVRQAPGKGLE...</td>\n",
       "      <td>SARS-CoV2</td>\n",
       "    </tr>\n",
       "    <tr>\n",
       "      <th>4420</th>\n",
       "      <td>QVQLVQSGAEVKKPGASVKVSCKASGYTFTSYGISWVRQAPGQGLE...</td>\n",
       "      <td>SARS-CoV2</td>\n",
       "    </tr>\n",
       "    <tr>\n",
       "      <th>4421</th>\n",
       "      <td>QVQLVQSGGGLVKPGGSLRLSCAASGITVSSNYMSWVRQAPGKGLE...</td>\n",
       "      <td>SARS-CoV2</td>\n",
       "    </tr>\n",
       "  </tbody>\n",
       "</table>\n",
       "</div>"
      ],
      "text/plain": [
       "                                               sequence     target\n",
       "3513  QMQLVQSGTEVKKPGESLKISCKGSGYGFITYWIGWVRQMPGKGLE...  SARS-CoV2\n",
       "3908  EVQLVESGGGLIQPGGSLRLSCAASGFTVSSNYMSWVRQAPGKGLE...  SARS-CoV2\n",
       "3909  EVQLVESGGGLIQPGGSLRLSCAASGFTVSSNYMSWVRQAPGKGLE...  SARS-CoV2\n",
       "4420  QVQLVQSGAEVKKPGASVKVSCKASGYTFTSYGISWVRQAPGQGLE...  SARS-CoV2\n",
       "4421  QVQLVQSGGGLVKPGGSLRLSCAASGITVSSNYMSWVRQAPGKGLE...  SARS-CoV2"
      ]
     },
     "execution_count": 30,
     "metadata": {},
     "output_type": "execute_result"
    }
   ],
   "source": [
    "# subset columns\n",
    "data = data.loc[:, [\"sequence\", \"target\"]]\n",
    "data.head()"
   ]
  },
  {
   "cell_type": "code",
   "execution_count": 31,
   "metadata": {},
   "outputs": [
    {
     "data": {
      "text/plain": [
       "target\n",
       "SARS-CoV2    313\n",
       "HIV-1        228\n",
       "Name: count, dtype: int64"
      ]
     },
     "execution_count": 31,
     "metadata": {},
     "output_type": "execute_result"
    }
   ],
   "source": [
    "data[\"target\"].value_counts()"
   ]
  },
  {
   "cell_type": "code",
   "execution_count": 32,
   "metadata": {},
   "outputs": [
    {
     "data": {
      "text/plain": [
       "target\n",
       "SARS-CoV2    228\n",
       "HIV-1        228\n",
       "Name: count, dtype: int64"
      ]
     },
     "execution_count": 32,
     "metadata": {},
     "output_type": "execute_result"
    }
   ],
   "source": [
    "# down sample SARS-CoV2 to make the dataset more balanced\n",
    "data = pd.concat(\n",
    "    [\n",
    "        data.loc[data[\"target\"] == \"SARS-CoV2\"].sample(n=228, random_state=0),\n",
    "        data.loc[data[\"target\"] == \"HIV-1\"],\n",
    "    ]\n",
    ")\n",
    "data[\"target\"].value_counts()"
   ]
  },
  {
   "cell_type": "code",
   "execution_count": 33,
   "metadata": {},
   "outputs": [],
   "source": [
    "import matplotlib.pyplot as plt\n",
    "import seaborn as sns\n",
    "\n",
    "sns.set_style(\"whitegrid\")"
   ]
  },
  {
   "cell_type": "code",
   "execution_count": 34,
   "metadata": {},
   "outputs": [
    {
     "data": {
      "image/png": "[encoded data removed]",
      "text/plain": [
       "<Figure size 2100x2100 with 1 Axes>"
      ]
     },
     "metadata": {},
     "output_type": "display_data"
    }
   ],
   "source": [
    "plt.figure(figsize=(7, 7), dpi=300)\n",
    "ax = sns.countplot(x=\"target\", data=data, hue=\"target\")\n",
    "plt.title(\"Target distribution\")\n",
    "plt.ylabel(\"# of Sequences\")\n",
    "sns.despine()"
   ]
  },
  {
   "cell_type": "code",
   "execution_count": 35,
   "metadata": {},
   "outputs": [],
   "source": [
    "from sklearn.model_selection import train_test_split"
   ]
  },
  {
   "cell_type": "code",
   "execution_count": 36,
   "metadata": {},
   "outputs": [],
   "source": [
    "# split into train and test sets, stratified by target\n",
    "train, test = train_test_split(\n",
    "    data, stratify=data[\"target\"], random_state=0, test_size=0.2\n",
    ")"
   ]
  },
  {
   "cell_type": "code",
   "execution_count": 37,
   "metadata": {},
   "outputs": [
    {
     "data": {
      "text/plain": [
       "((364, 2), (92, 2))"
      ]
     },
     "execution_count": 37,
     "metadata": {},
     "output_type": "execute_result"
    }
   ],
   "source": [
    "train.shape, test.shape"
   ]
  },
  {
   "cell_type": "code",
   "execution_count": 38,
   "metadata": {},
   "outputs": [],
   "source": [
    "data.to_parquet(\"../data/bcr.parquet\")\n",
    "train.to_parquet(\"../data/bcr_train.parquet\")\n",
    "test.to_parquet(\"../data/bcr_test.parquet\")"
   ]
  },
  {
   "cell_type": "code",
   "execution_count": null,
   "metadata": {},
   "outputs": [],
   "source": []
  }
 ],
 "metadata": {
  "kernelspec": {
   "display_name": "ml",
   "language": "python",
   "name": "python3"
  },
  "language_info": {
   "codemirror_mode": {
    "name": "ipython",
    "version": 3
   },
   "file_extension": ".py",
   "mimetype": "text/x-python",
   "name": "python",
   "nbconvert_exporter": "python",
   "pygments_lexer": "ipython3",
   "version": "3.11.9"
  }
 },
 "nbformat": 4,
 "nbformat_minor": 2
}
